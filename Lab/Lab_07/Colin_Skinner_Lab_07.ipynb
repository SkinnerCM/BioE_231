{
 "cells": [
  {
   "cell_type": "code",
   "execution_count": 3,
   "metadata": {},
   "outputs": [],
   "source": [
    "import numpy as np"
   ]
  },
  {
   "cell_type": "markdown",
   "metadata": {},
   "source": [
    "## First, let's test the random zero generator to see that it works as expected:"
   ]
  },
  {
   "cell_type": "code",
   "execution_count": 6,
   "metadata": {},
   "outputs": [
    {
     "name": "stdout",
     "output_type": "stream",
     "text": [
      "\n",
      "This is an array with 100 percent zeros: \n",
      "\n",
      "[0 0 0 0 0 0 0 0 0 0 0 0 0 0 0 0 0 0 0 0 0 0 0 0 0 0 0 0 0 0 0 0 0 0 0 0 0\n",
      " 0 0 0 0 0 0 0 0 0 0 0 0 0 0 0 0 0 0 0 0 0 0 0 0 0 0 0 0 0 0 0 0 0 0 0 0 0\n",
      " 0 0 0 0 0 0 0 0 0 0 0 0 0 0 0 0 0 0 0 0 0 0 0 0 0 0]\n",
      "\n",
      "This is an array with 90 percent zeros: \n",
      "\n",
      "[0 0 0 0 0 0 0 0 1 0 0 0 0 0 0 0 0 0 0 0 0 0 0 0 0 0 0 1 0 0 0 0 0 0 0 0 0\n",
      " 0 1 1 0 1 0 0 0 1 0 0 0 0 0 0 0 0 0 0 0 0 0 0 0 1 0 0 0 0 0 0 0 0 0 0 0 0\n",
      " 0 0 1 0 0 0 0 0 0 1 0 0 0 0 0 0 0 0 0 0 1 0 0 0 1 0]\n",
      "\n",
      "This is an array with 80 percent zeros: \n",
      "\n",
      "[0 0 0 0 0 0 0 1 0 0 0 0 0 0 0 1 1 0 0 0 0 1 0 0 0 0 0 1 1 0 1 0 0 0 1 0 0\n",
      " 0 0 0 1 0 1 0 0 0 0 0 0 0 1 0 0 0 0 0 0 0 0 1 1 1 0 0 0 0 0 1 0 0 0 0 1 0\n",
      " 1 0 0 0 0 0 0 0 0 0 1 0 0 0 0 0 1 0 0 1 0 1 1 0 0 0]\n",
      "\n",
      "This is an array with 70 percent zeros: \n",
      "\n",
      "[0 0 0 1 0 0 0 1 0 0 1 0 1 1 1 0 0 1 0 0 0 1 0 0 0 0 0 1 1 0 0 1 1 0 1 0 0\n",
      " 0 0 0 0 1 1 1 0 1 1 1 0 0 0 0 0 0 0 0 0 0 0 1 0 0 0 0 1 0 1 0 1 0 1 0 1 1\n",
      " 0 0 0 1 0 0 0 0 0 0 1 1 0 0 0 0 1 0 0 0 0 1 0 0 1 0]\n",
      "\n",
      "This is an array with 60 percent zeros: \n",
      "\n",
      "[0 0 1 0 0 0 0 0 0 0 0 0 0 0 0 1 1 0 0 0 0 0 1 0 0 1 1 0 0 1 1 1 1 1 1 0 1\n",
      " 1 0 1 1 1 0 1 0 0 0 1 1 0 1 1 1 0 1 0 1 1 1 0 0 1 0 0 0 0 0 1 0 1 0 0 0 0\n",
      " 0 0 1 0 0 1 0 1 1 1 1 0 0 1 0 1 0 0 1 0 0 1 1 0 1 0]\n",
      "\n",
      "This is an array with 50 percent zeros: \n",
      "\n",
      "[0 1 0 0 1 0 1 1 0 1 0 1 1 0 1 0 0 0 0 1 0 1 0 1 1 1 0 0 1 0 1 0 1 1 0 1 0\n",
      " 0 0 0 1 1 0 0 0 1 0 1 0 1 1 1 1 1 0 1 0 1 1 0 0 1 1 0 0 1 1 1 1 1 1 1 1 0\n",
      " 1 0 1 0 0 1 1 1 1 0 0 0 1 0 1 0 0 1 0 0 1 1 0 0 1 0]\n"
     ]
    }
   ],
   "source": [
    "rates = [1.0, 0.9, 0.8, 0.7, 0.6, 0.5]\n",
    "\n",
    "for i in range(len(rates)):\n",
    "    myvar = np.random.choice([0,1], size=int(100), replace=True, p=[rates[i], 1 - rates[i]]) \n",
    "    print(\"\\nThis is an array with {} percent zeros: \\n\" .format(int(rates[i]*100)))\n",
    "    print(myvar)"
   ]
  },
  {
   "cell_type": "markdown",
   "metadata": {},
   "source": [
    "## Now we create the 100MB files with varying percentages of  zeros"
   ]
  },
  {
   "cell_type": "code",
   "execution_count": null,
   "metadata": {},
   "outputs": [],
   "source": [
    "for i in range(len(rates)):\n",
    "    myvar = np.random.choice([0,1], size=int(8e8), replace=True, p=[rates[i], 1 - rates[i]]) \n",
    "    myvar = np.packbits(myvar)\n",
    "    #open(\"zeros_{}p\" .format(int(rates[i]*100)), \"wb\").write(myvar)"
   ]
  },
  {
   "cell_type": "markdown",
   "metadata": {},
   "source": [
    "## Creating a random 100 MB DNA sequence"
   ]
  },
  {
   "cell_type": "code",
   "execution_count": 4,
   "metadata": {},
   "outputs": [
    {
     "data": {
      "text/plain": [
       "100000000"
      ]
     },
     "execution_count": 4,
     "metadata": {},
     "output_type": "execute_result"
    }
   ],
   "source": [
    "nt_seq = np.random.choice(['A','T','C','G'], size=int(1e8), replace=True, p=[0.25,0.25,0.25,0.25])\n",
    "\n",
    "#open(\"nt_seq.fa\", \"w\").write(\"\".join(nt_seq))"
   ]
  },
  {
   "cell_type": "markdown",
   "metadata": {},
   "source": [
    "## Creating a random 100 MB amino acid sequence"
   ]
  },
  {
   "cell_type": "code",
   "execution_count": 64,
   "metadata": {},
   "outputs": [
    {
     "data": {
      "text/plain": [
       "100000000"
      ]
     },
     "execution_count": 64,
     "metadata": {},
     "output_type": "execute_result"
    }
   ],
   "source": [
    "AA_code = ['A','R','N','D','C','Q','E','G','H','I','L','K','M','F','P','S','T','W','Y','V']\n",
    "AA_prob = 20*[0.05]\n",
    "\n",
    "AA_seq = np.random.choice(AA_code, size=int(8*1024*1024*100), replace=True, p=AA_prob)\n",
    "\n",
    "#open(\"AA_seq.fa\", \"w\").write(\"\".join(AA_seq))"
   ]
  },
  {
   "cell_type": "markdown",
   "metadata": {},
   "source": [
    "## Compressing the Files \n"
   ]
  },
  {
   "cell_type": "markdown",
   "metadata": {},
   "source": [
    "||| zeros_100p | zeros_90p | zeros_80p | zeros_70p | zeros_60p | zeros_50p | nt_seq.fa | AA_seq.fa |     \n",
    "|---:|------|-------------|----------|------------------|------------|-------|-----|\n",
    "|  | <p style='text-align: left;'> Input Size </p> | 100 MB | 100 MB | 100 MB  | 100 MB | 100 MB | 100 MB  | 100 MB | 100 MB |\n",
    "|  | <p style='text-align: left;'> gzip Output Size</p> |99 kB|56 MB|77 MB|89 MB|98 MB|100 MB|29 MB|61 MB|\n",
    "|  | <p style='text-align: left;'> gzip Time (real) </p> |0.827 s|20.73 s|15.05 s|7.64 s|5.22 s|4.17 s|14.49 s|5.74 s|\n",
    "|  | <p style='text-align: left;'> bzip2 Output Size </p> |0.11 kB|58 MB|83 MB|95 MB|100 MB|100 MB|27 MB|55 MB| \n",
    "|  | <p style='text-align: left;'>  bzip2 Time (real) </p> |1.24 s|13.15 s|14.54 s|16.79 s|19.58 s|19.22 s|10.78 s|12.64 s|\n",
    "|  | <p style='text-align: left;'> pbzip2 Output Size </p> |5 kB|58 MB|0 kB|95 MB|100 MB|100 MB|27 MB|55 MB| \n",
    "|  | <p style='text-align: left;'> pbzip2 Time (real) </p> |0.36 s|1.99 s|0.01 s|1.34 s|1.56 s|1.68 s|0.79 s|0.91 s|\n",
    "|  | <p style='text-align: left;'> ArithmeticCompress Output Size </p> |1 kB|46 MB|1 kB|88 MB|97 MB|100 MB|25 MB|54 MB| \n",
    "|  | <p style='text-align: left;'> ArithmeticCompress Time (real) </p> |16.75 s|33.25 s|0.02 s|43.91 s|46.59 s|44.67 s|24.54 s|32.48 s|\n",
    " "
   ]
  },
  {
   "cell_type": "markdown",
   "metadata": {},
   "source": [
    "#### **It appears that my zeros_80p file was corrupted at some point along the way, as after running it through bzip2 it appears to have no contents. \n"
   ]
  },
  {
   "cell_type": "markdown",
   "metadata": {},
   "source": [
    "### Answers to Questions from Lab Instructions\n",
    "\n",
    "According to the tabulated results, it appears that the ArithmeticCompress algorithm consistently yeilded the smallest output file across each of the file types. However, the pbzip2 algorithim was clearly the fastest across all file types.\n",
    "\n",
    "The difference between bzip2 and pbzip2 is that  pbzip2 allows for multithreading, which is like allowing for multitasking, so we would expect pbzip2 to be faster (which our results confirmed). \n",
    "\n",
    "The level of compression increase as the percentage of zeros increases because the entropy of the information decreases. In other words, there is less information when there is recurring data in a set, and therefore less randomness. Less random means more information, and therefore there is less opportunity for data compression.\n",
    "\n",
    "The minimum number of bits to store a single DNA base is 2, while the minimum number of bits to store an Amino Acid is 5"
   ]
  },
  {
   "cell_type": "code",
   "execution_count": null,
   "metadata": {},
   "outputs": [],
   "source": []
  }
 ],
 "metadata": {
  "kernelspec": {
   "display_name": "Python 3",
   "language": "python",
   "name": "python3"
  },
  "language_info": {
   "codemirror_mode": {
    "name": "ipython",
    "version": 3
   },
   "file_extension": ".py",
   "mimetype": "text/x-python",
   "name": "python",
   "nbconvert_exporter": "python",
   "pygments_lexer": "ipython3",
   "version": "3.6.5"
  }
 },
 "nbformat": 4,
 "nbformat_minor": 2
}

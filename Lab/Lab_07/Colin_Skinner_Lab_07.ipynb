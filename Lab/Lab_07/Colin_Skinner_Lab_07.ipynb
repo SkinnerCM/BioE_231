{
 "cells": [
  {
   "cell_type": "code",
   "execution_count": 17,
   "metadata": {},
   "outputs": [],
   "source": [
    "import numpy as np"
   ]
  },
  {
   "cell_type": "markdown",
   "metadata": {},
   "source": [
    "## First, let's test the random zero generator to see that it works as expected:"
   ]
  },
  {
   "cell_type": "code",
   "execution_count": 6,
   "metadata": {},
   "outputs": [
    {
     "name": "stdout",
     "output_type": "stream",
     "text": [
      "\n",
      "This is an array with 100 percent zeros: \n",
      "\n",
      "[0 0 0 0 0 0 0 0 0 0 0 0 0 0 0 0 0 0 0 0 0 0 0 0 0 0 0 0 0 0 0 0 0 0 0 0 0\n",
      " 0 0 0 0 0 0 0 0 0 0 0 0 0 0 0 0 0 0 0 0 0 0 0 0 0 0 0 0 0 0 0 0 0 0 0 0 0\n",
      " 0 0 0 0 0 0 0 0 0 0 0 0 0 0 0 0 0 0 0 0 0 0 0 0 0 0]\n",
      "\n",
      "This is an array with 90 percent zeros: \n",
      "\n",
      "[0 0 0 0 0 0 0 0 1 0 0 0 0 0 0 0 0 0 0 0 0 0 0 0 0 0 0 1 0 0 0 0 0 0 0 0 0\n",
      " 0 1 1 0 1 0 0 0 1 0 0 0 0 0 0 0 0 0 0 0 0 0 0 0 1 0 0 0 0 0 0 0 0 0 0 0 0\n",
      " 0 0 1 0 0 0 0 0 0 1 0 0 0 0 0 0 0 0 0 0 1 0 0 0 1 0]\n",
      "\n",
      "This is an array with 80 percent zeros: \n",
      "\n",
      "[0 0 0 0 0 0 0 1 0 0 0 0 0 0 0 1 1 0 0 0 0 1 0 0 0 0 0 1 1 0 1 0 0 0 1 0 0\n",
      " 0 0 0 1 0 1 0 0 0 0 0 0 0 1 0 0 0 0 0 0 0 0 1 1 1 0 0 0 0 0 1 0 0 0 0 1 0\n",
      " 1 0 0 0 0 0 0 0 0 0 1 0 0 0 0 0 1 0 0 1 0 1 1 0 0 0]\n",
      "\n",
      "This is an array with 70 percent zeros: \n",
      "\n",
      "[0 0 0 1 0 0 0 1 0 0 1 0 1 1 1 0 0 1 0 0 0 1 0 0 0 0 0 1 1 0 0 1 1 0 1 0 0\n",
      " 0 0 0 0 1 1 1 0 1 1 1 0 0 0 0 0 0 0 0 0 0 0 1 0 0 0 0 1 0 1 0 1 0 1 0 1 1\n",
      " 0 0 0 1 0 0 0 0 0 0 1 1 0 0 0 0 1 0 0 0 0 1 0 0 1 0]\n",
      "\n",
      "This is an array with 60 percent zeros: \n",
      "\n",
      "[0 0 1 0 0 0 0 0 0 0 0 0 0 0 0 1 1 0 0 0 0 0 1 0 0 1 1 0 0 1 1 1 1 1 1 0 1\n",
      " 1 0 1 1 1 0 1 0 0 0 1 1 0 1 1 1 0 1 0 1 1 1 0 0 1 0 0 0 0 0 1 0 1 0 0 0 0\n",
      " 0 0 1 0 0 1 0 1 1 1 1 0 0 1 0 1 0 0 1 0 0 1 1 0 1 0]\n",
      "\n",
      "This is an array with 50 percent zeros: \n",
      "\n",
      "[0 1 0 0 1 0 1 1 0 1 0 1 1 0 1 0 0 0 0 1 0 1 0 1 1 1 0 0 1 0 1 0 1 1 0 1 0\n",
      " 0 0 0 1 1 0 0 0 1 0 1 0 1 1 1 1 1 0 1 0 1 1 0 0 1 1 0 0 1 1 1 1 1 1 1 1 0\n",
      " 1 0 1 0 0 1 1 1 1 0 0 0 1 0 1 0 0 1 0 0 1 1 0 0 1 0]\n"
     ]
    }
   ],
   "source": [
    "rates = [1.0, 0.9, 0.8, 0.7, 0.6, 0.5]\n",
    "\n",
    "for i in range(len(rates)):\n",
    "    myvar = np.random.choice([0,1], size=int(100), replace=True, p=[rates[i], 1 - rates[i]]) \n",
    "    print(\"\\nThis is an array with {} percent zeros: \\n\" .format(int(rates[i]*100)))\n",
    "    print(myvar)"
   ]
  },
  {
   "cell_type": "markdown",
   "metadata": {},
   "source": [
    "## Now we create the 100MB files with varying percentages of  zeros"
   ]
  },
  {
   "cell_type": "code",
   "execution_count": null,
   "metadata": {},
   "outputs": [],
   "source": [
    "for i in range(len(rates)):\n",
    "    myvar = np.random.choice([0,1], size=int(8e8), replace=True, p=[rates[i], 1 - rates[i]]) \n",
    "    myvar = np.packbits(myvar)\n",
    "    #open(\"zeros_{}p\" .format(int(rates[i]*100)), \"wb\").write(myvar)"
   ]
  },
  {
   "cell_type": "markdown",
   "metadata": {},
   "source": [
    "## Creating a random 100 MB DNA sequence"
   ]
  },
  {
   "cell_type": "code",
   "execution_count": 4,
   "metadata": {},
   "outputs": [
    {
     "data": {
      "text/plain": [
       "100000000"
      ]
     },
     "execution_count": 4,
     "metadata": {},
     "output_type": "execute_result"
    }
   ],
   "source": [
    "nt_seq = np.random.choice(['A','T','C','G'], size=int(1e8), replace=True, p=[0.25,0.25,0.25,0.25])\n",
    "\n",
    "#open(\"nt_seq.fa\", \"w\").write(\"\".join(nt_seq))"
   ]
  },
  {
   "cell_type": "markdown",
   "metadata": {},
   "source": [
    "## Creating a random 100 MB amino acid sequence"
   ]
  },
  {
   "cell_type": "code",
   "execution_count": 64,
   "metadata": {},
   "outputs": [
    {
     "data": {
      "text/plain": [
       "100000000"
      ]
     },
     "execution_count": 64,
     "metadata": {},
     "output_type": "execute_result"
    }
   ],
   "source": [
    "AA_code = ['A','R','N','D','C','Q','E','G','H','I','L','K','M','F','P','S','T','W','Y','V']\n",
    "AA_prob = 20*[0.05]\n",
    "\n",
    "AA_seq = np.random.choice(AA_code, size=int(8*1024*1024*100), replace=True, p=AA_prob)\n",
    "\n",
    "#open(\"AA_seq.fa\", \"w\").write(\"\".join(AA_seq))"
   ]
  },
  {
   "cell_type": "markdown",
   "metadata": {},
   "source": [
    "## Compressing the Files \n",
    "\n",
    "**Terminal command and output:**\n",
    "\n",
    "be131-16@meowth:~/Colin/lab7$ time gzip -k zeros_100p \n",
    "\n",
    "real    0m4.946s <br/>\n",
    "user    0m0.862s <br/>\n",
    "sys     0m0.073s <br/>\n",
    "\n",
    "I continued to do this for all files and obtained the following data:"
   ]
  },
  {
   "cell_type": "markdown",
   "metadata": {},
   "source": [
    "|| zeros_100p | zeros_90p | zeros_80p | zeros_70p | zeros_60p | zeros_50p | nt_seq.fa | AA_seq.fa |     \n",
    "|------|-------------|----------|------------------|------------|-------|-----|\n",
    "| <p style='text-align: left;'> Input Size </p> | 100 MB | 100 MB | 100 MB  | 100 MB | 100 MB | 100 MB  | 100 MB | 100 MB |\n",
    "| <p style='text-align: left;'> gzip Output Size</p> |99 kB|56 MB|77 MB|89 MB|98 MB|100 MB|29 MB|61 MB|\n",
    "| <p style='text-align: left;'> gzip Time (real) </p> |0.862 s|20.73 s|15.05 s|7.64 s|5.22 s|4.17 s|14.49 s|5.74 s|\n",
    "| <p style='text-align: left;'> bzip2 Output Size </p> |0.11 kB|58 MB|83 MB|95 MB|100 MB|100 MB|27 MB|55 MB| \n",
    "| <p style='text-align: left;'>  bzip2 Time (real) </p> |1.24 s|13.15 s|14.54 s|16.79 s|19.58 s|19.22 s|10.78 s|12.64 s|\n",
    "| <p style='text-align: left;'> pbzip2 Output Size </p> |5 kB|58 MB|0 kB|95 MB|100 MB|100 MB|27 MB|55 MB| \n",
    "| <p style='text-align: left;'> pbzip2 Time (real) </p> |0.36 s|1.99 s|0.01 s|1.34 s|1.56 s|1.68 s|0.79 s|0.91 s|\n",
    "| <p style='text-align: left;'> ArithmeticCompress Output Size </p> |1 kB|46 MB|1 kB|88 MB|97 MB|100 MB|25 MB|54 MB| \n",
    "| <p style='text-align: left;'> ArithmeticCompress Time (real) </p> |16.75 s|33.25 s|0.02 s|43.91 s|46.59 s|44.67 s|24.54 s|32.48 s|\n",
    " "
   ]
  },
  {
   "cell_type": "markdown",
   "metadata": {},
   "source": [
    "#### **It appears that my zeros_80p file was corrupted at some point along the way, as after running it through bzip2 it appears to have no contents. \n"
   ]
  },
  {
   "cell_type": "markdown",
   "metadata": {},
   "source": [
    "### Answers to Lab Questions\n",
    "\n",
    "According to the tabulated results, it appears that the ArithmeticCompress algorithm consistently yeilded the smallest output file across each of the file types. However, the pbzip2 algorithim was clearly the fastest across all file types.\n",
    "\n",
    "The difference between bzip2 and pbzip2 is that  pbzip2 allows for multithreading, which is like allowing for multitasking, so we would expect pbzip2 to be faster (which our results confirmed). \n",
    "\n",
    "The level of compression increased as the percentage of zeros increases because the entropy of the information decreases. In other words, there is less information when there is recurring data in a set, and therefore less randomness. Less random means more information, and therefore there is less opportunity for data compression.\n",
    "\n",
    "The minimum number of bits to store a single DNA base is 2, while the minimum number of bits to store an Amino Acid is 5 (actually a little less than 5 if you use Shannon entropy - S = log_2(20) = 4.3 bits/AA).\n",
    "\n",
    "Gzip compressed a 100 MB nucleotide sequence to 29 MB. There are 10^8 nucleotides with a byte, or 8 bits, per letter. Compression brought that down to about 2.4 bits/nucleotide (29 MB * 1024 KB/MB * 1024 Bytes/KB * 8 bits/Byte * 1/10^8 nucleotides). Using the same logic for the amino acid sequence we can see that gzip compressed it to just 5.1 bits/amino acid. For bzip2 we get 2.3 bits/nucleotide and 4.6 bits/amino acid.\n",
    "\n",
    "Gzip and bzip2 seem to perform pretty well on compressing the data for the random sequences, with bzip2 performing slightly better. To say *how* well seems a bit arbitrary, unless there is some objective performance metric (which there very well may be and I don't know about it).\n"
   ]
  },
  {
   "cell_type": "markdown",
   "metadata": {},
   "source": [
    "# We can use Entrez to search for a fetch sequences for gp120 homologs and write them to a multi-fasta file"
   ]
  },
  {
   "cell_type": "code",
   "execution_count": 50,
   "metadata": {},
   "outputs": [
    {
     "name": "stdout",
     "output_type": "stream",
     "text": [
      "\n",
      "ID: MG515154.1 \n",
      "Description: HIV-1 isolate RU_PRM147-re1 \n",
      "Sequence Length: 498 \n",
      "\n",
      "ATCATAATAGTACAGCTTATAGAGCCTGTAAACATCACTTGTATCAGACCTGGCAACAATACAAGAACAAGTATACGTATAGGACCAGGACAAACCTTCTATGCAACAGGTGATGTAATAGGGGACATAAGAAAAGCACATTGTAATGTCAGCAGAGCAGCATGGAATAGCACTTTACAAAAGATAAGTATACAATTAAGAAGATACTTTAATAACAAAACAATAATATTTAAGAACTCCTCAGGAGGGGATGTAGAAGTTGCAACACATAGTTTCAATTGTGGAGGAGAATTTTTTTATTGCAATACAACAGACCTGTTCGATAGCACTTGGGACGAAAATAGCACTGTCACAAATATCACAGAGCCCAAAGCAACTATAACTCTACCATGCAGAATAAAGCAAATTATAAATATGTGGCAGAGAGTAGGACAAGCAATGTATGCCCCTCCTATCAAAGGAAGTATAAGGTGTGAATCAAATATTACAGGACTACTA\n",
      "\n",
      "ID: MG515153.1 \n",
      "Description: HIV-1 isolate RU_PRM128-re1 \n",
      "Sequence Length: 498 \n",
      "\n",
      "ATCATAATAGTACAGCTTAAGGAGCCTGTGAACATCACTTGTATCAGACCTGGCAACAATACAAGAACAAGTATACGTATAGGACCAGGACAAACCTTCTATGCAACAGGTGATATAATAGGGAAACCAAGAAAAGCACATTGTAATGTCAGCAGAACAGCATGGAATAACACTTTACAACAGATAAGTACACAATTAAGAAAATACTTTAATAACAAAACAATAATATTTAAGAACTCCTCAGGAGGGGATTTAGAAATTACAACACATAGTTTCAATTGTGGAGGAGAATTTTTTTATTGCAATACAACAGCCCTGTTCAATAGCACTTGGAACACAGATAGCACTGTCACAAATAGCACAGAGGCCAATACAACTATAACTATACCATGCAGAATAAAGCAAATTATAAATATGTGGCAGAGAGTAGGACAAGCAATGTATGCCCCTCCTATCAAAGGAATTATAAGGTGTGAATCAAACATTACAGAACTACTA\n",
      "\n",
      "ID: MG515152.1 \n",
      "Description: HIV-1 isolate RU_PRM046-re1 \n",
      "Sequence Length: 498 \n",
      "\n",
      "ATCATAATAGTACAGCTTACTGAGCCTGTAAACATCACTTGTATCAGACCTGGCAACAATACAAGAACAAGTATACGTATAGGACCAGGACAAACCTTCTATGCAACAGGTGATGTAATAGGGGACATAAGAAAAGCATATTGTAATGTCAGCAGAGCAGCATGGAATAGCACTTTACAAAAGATAAGTACACAATTAAGAAAATACTTTAATAACAAAACAATAATATTTAAGAACTCCCCAGGAGGGGATTTAGAAGTTACAACACATAGTTTCAATTGTGGAGGAGAATTTTTTTATTGCAATACAACAGACCTGTTCAATAGCACTTGGGACAAAAATAGCACTGTCACAAATATCACAGAGGCCAATGCAACTATAACTCTACCATGCAGAATAAAGCAAATTATAAATATGTGGCAGAGAGTAGGACAAGCAATGTATGCCCCTCCTATCAAAGGAAGTATAAGGTGTGAATCAAACATTACAGGACTACTA\n",
      "\n",
      "ID: MG515151.1 \n",
      "Description: HIV-1 isolate RU_PRM034-re1 \n",
      "Sequence Length: 498 \n",
      "\n",
      "ACCATAATAGTACAGCTTACTAACCCGGTAACCATCACTTGTATCAGACCTGGCAACAATACAAGAACAAGTATACGTATAGGACCAGGACAAACCTTCTATGCAACAGGTGATGTAATAGGGGACATAAGAAAAGCATATTGTAATATCAGCAGAGAAACATGGAATGACACTTTACGAAACATAAGTATACAATTAAGAAAATACTTTAATAACAAAACAATAATATTTAAGAACTCCTCAGGAGGGGACTTAGAAGTTACAACACATAGTTTCAATTGTGGAGGAGAATTTTTTTATTGCAATACAACAAGCCTGTTCAATAGCACTTGGGACCAACATAGCAATGTCACAAATAGCACAGAGGCCATGGCAAATATAACTCTACCATGCAGAATAAAGCAAATTATAAATATGTGGCAGAGAGTAGGACAAGCAATGTATGCCCCTCCTATCAGAGGAAGTATAAGGTGTGAATCAAACATTACAGGACTACTA\n",
      "\n",
      "ID: MG515150.1 \n",
      "Description: HIV-1 isolate RU_PRM143-re1 \n",
      "Sequence Length: 498 \n",
      "\n",
      "ATCATAATAGTACAGCTTACTAAGCCTGTAAACATCACTTGTATCAGACCTGGCAACAATACAAGAACAAGTATACATATAGGCCCAGGACAAACTTTCTATGCAACAGGTAAAGTAATAGGGAACATAAGGAAAGCATATTGTAATGTCAGCAGAACAGCATGGGAAAGCACTTTACAAAATATAAGTACACAATTAAGAAAATATTTTACTAACACAACAATAATATTTAAGAACTCCTCAGGAGGGGATTTAGAAGTTACAACACATAGTTTCAATTGTGGAGGAGAATTTTTTTATTGCAATACAACAGACCTGTTCAATAGCACTTGGGACAAAAATAGCACTGTCACAAATAGCACAGAGGCCAATGAAACTATAACTCTACCATGCAGAATAAAGCAAATTATAAATATGTGGCAGAGAGTAGGACAAGCAATGTATGCCCCTCCTATCAAAGGAAGTATAAGGTGTGAATCAAACATTACAGGACTACTA\n",
      "\n",
      "ID: MG515149.1 \n",
      "Description: HIV-1 isolate RU_PRM069-re1 \n",
      "Sequence Length: 498 \n",
      "\n",
      "ATCATAATAGTACAGCTTGATGAGTCTGTAAACATCACTTGTATCAGACCTGGCAACAATACAAGAACAAGTATACGTATAGGACCAGGACAAACCTTCTATGCAACAGGTGATGTAATAGGGGACATAAGAAAAGCATACTGTAATGTCAGCAGAGCAGCATGGAATAGAACTTTACAAAAGATAAGTACACAATTAAGGAAATACTTTAATAATAAAACAATAATATTTAAGAACTCCTCAGGAGGAGATTTAGAAGTTACAACACATAGTTTCAATTGTGGAGGAGAATTTTTTTATTGCAATACAACAGACCTGTTCAATAGCACTTGGGACAAAAATAGCACTGTCACAAATACCACAGAGGCCAATGCAACTATAACTCTACCATGCAGAATAAAGCAAATTATAAATATGTGGCAGAGAGTAGGACAAGCAATGTATGCCCCTCCTATCAAAGGAAGTATAAGGTGTGAATCAAACATTACAGGACTACTA\n",
      "\n",
      "ID: MG515148.1 \n",
      "Description: HIV-1 isolate RU_PRM096-re1 \n",
      "Sequence Length: 498 \n",
      "\n",
      "ACCATAATAGTACAGCTTACTAAGCCTGTAAACATCACTTGTATTAGACCTAGCAACAATACAAGAACAAGTATACGTATAGGACCAGGACAAACCTTCTATGCAACAGGTGCTGTAACAGGGGACATAAGAAAAGCATATTGTAATGTCAGCAGAGCAGCATGGAATAGCACTTTACAAAACATAAGTACACAATTAAAAGAATACTTTAATAACAAAACAATAATATTCAACACCTCCTCAGGAGGGGATTTAGAAGTTACAACACATAGTTTCAATTGTGGAGGAGAATTTTTTTATTGCAATACAACAGCCCTGTTCAATAGCACTTGGAACAGTACAACAGATGCTGCAACTATAACAGATGCCAATGAAACTATAACTTTACCATGCAGAATAAAGCAAATTATAAATATGTGGCAGAGAGTAGGACAAGCAATGTATGCCCCTCCTATCAAAGGAAGTATAAGGTGTGAGTCAAACATTACAGGACTACTA\n",
      "\n",
      "ID: MG515147.1 \n",
      "Description: HIV-1 isolate RU_PRM142-re1 \n",
      "Sequence Length: 498 \n",
      "\n",
      "ATCATAATAGTACAGCTTGCTAAGCCTGTAAACATCACTTGTATCAGACCTAACAACAATACAAGAACAAGTATACGTATAGGACCAGGACAAACCTTCTATGCAATGGGTGGTGTAGTAGGGGACATAAGGAAAGCATATTGTAATGTCAGCAGAGTAGAGTGGAATAACACTTTACAAGAGATAAGCACACAATTAAGAGAATACTTTAATAACAAAACAATAATATTTAAGAACTCCTCAGGAGGGGATTTAGAAGTTACAACACATAGTTTCAATTGTGGAGGAGAATTTTTTTATTGCAATACAACAGAACTGTTCAACAGCACTTGGGACAAAAATAGCACTGTCACAAATATCACAGAGACCAATGCAACTATAACTCTACCATGCAGAATAAAGCAAATTATAAATATGTGGCAGAGAGTAGGACAAGCAATGTATGCCCCTCCTATCAAAGGAAGTATAAGGTGTGAATCAAACATTACAGGACTACTA\n",
      "\n",
      "ID: MG515146.1 \n",
      "Description: HIV-1 isolate RU_PRM140-re1 \n",
      "Sequence Length: 498 \n",
      "\n",
      "AACATAATAGTACAGCTTGATAAGCCTGTAAACATCACTTGTATCAGACCTGGCAACAATACAAGAACAAGTATACGTATAGGACCAGGACAAACCTTCTATGCAACAGGTGCGGTAATAGGGAACCCAAGAAAAGCATATTGTAATGTCAGCAGAGCAGTATGGAATAGCACTTTACAAAAGATAAGTACACAATTAAGAAAATACTTTAATAACAAAACAATAATATTTCAGAACTCCTCAGGAGGGGATTTAGAAGTTACAACACATAGTTTCAATTGTGGAGGAGAATTTTTTTATTGCAATACAACAGACCTGTTCAATAGCACTTGGGACAATAATACCACTGACACAAATATCACAGAGACCAATGAAACTATAACTCTACCATGCAGAATAAAGCAAATTATAAATATGTGGCAGAGAGTAGGACAAGCAATGTATGCCCCTCCTATCAAAGGAAGTATAAGGTGTGAATCAAACATTACAGGACTACTA\n",
      "\n",
      "ID: MG515145.1 \n",
      "Description: HIV-1 isolate RU_PRM033-re1 \n",
      "Sequence Length: 498 \n",
      "\n",
      "ATCATAATAGTACAGCTCAATGAGTCTGTAAGCATCACTTGTATCAGACCTGGCAACAATACAAGAAAAAGTATACGTATAGGACCAGGACAAACCTTCTATGCAACAGGTGATGTAATAGGGGACATAAGAAAAGCATATTGTAATGTTAGCAGAGCAGCATGGAATAGAACTTTACAACAGATAAGTATACAATTAAGAAAATACTTTAATAACAAAACAATAATATTTAAGAACTCCTCAGGAGGGGATTTAGAAGTTACAACACATAGTTTCAATTGTGGAGGAGAATTTTTTTATTGCAATACAACAGACCTGTTCAATAGCACTTGGGACAAAAATAGCACTGTCACAAATATCACAGAGGCCAATGCAACTATAACTCTACCATGCAGAATAAAGCAAATTATAAATATGTGGCAGAGAGTAGGACAAGCAATGTATGCCCCTCCTATCAAAGGAAGTATAAGGTGTGAATCAAACATTACAGGACTACTA\n"
     ]
    }
   ],
   "source": [
    "from Bio import Entrez, SeqIO\n",
    "Entrez.email = 'cmskinner2015@berkeley.edu'\n",
    "\n",
    "handle = Entrez.esearch(db=\"nucleotide\", retmax=10, term=\"gp120 HIV\")\n",
    "record = Entrez.read(handle)\n",
    "handle.close()\n",
    "                     \n",
    "handle = Entrez.efetch(db='nucleotide', rettype='gb', retmode='text', id=','.join(record['IdList']))\n",
    "for seq_record in SeqIO.parse(handle, 'gb'):\n",
    "    print(\"\\nID:\", seq_record.id, \"\\nDescription:\", seq_record.description[:27], \"\\nSequence Length:\", len(seq_record), \"\\n\")\n",
    "    print(seq_record.seq)\n",
    "    with open('multi_fasta.txt', 'a') as outfile: SeqIO.write(seq_record, outfile, 'fasta')\n",
    "handle.close()"
   ]
  },
  {
   "cell_type": "markdown",
   "metadata": {},
   "source": [
    "### Answer to lab question\n",
    "\n",
    "A priori, we should expect the compression of multi-fasta we created to be better than that for random data. This is because there is a lot of repetition, or less randomness in real DNA sequences due to certain biases. Real sequences, then, tend to include less information, according to the Shannon entropy theory of information."
   ]
  },
  {
   "cell_type": "markdown",
   "metadata": {},
   "source": [
    "|**Multi-FASTA Compression**|||     \n",
    "|------|-------------|----------|------------------|------------|-------|-----|\n",
    "| |**File Size**|**Compression Ratio**|\n",
    "| <p style='text-align: left;'> Input Size </p> | 6.15 KB | n/a|\n",
    "| <p style='text-align: left;'> gzip Output Size</p> |0.822 KB|7.5|\n",
    "| <p style='text-align: left;'> bzip2 Output Size </p> |1.01 KB|6.1|\n",
    "| <p style='text-align: left;'> ArithmeticCompress Output Size </p> |3.46 KB|1.8|\n"
   ]
  },
  {
   "cell_type": "markdown",
   "metadata": {},
   "source": [
    "For the random nucleotide sequence, the compression ratios for gzip, bzip2 and Arithmetic were 3.4, 3.7, and 4 respectively. Except for arithmetic compression, the compression of a real sequence was better than that for a random one. This was predicted."
   ]
  },
  {
   "cell_type": "markdown",
   "metadata": {},
   "source": [
    "# Estimating Compression of 1000 Terabytes"
   ]
  },
  {
   "cell_type": "markdown",
   "metadata": {},
   "source": [
    "For the sequence data, I would recommend using gzip since we expect this data to be far from random, and gzip had the best compression ratio for non-random information (7.5). We didn't run compression for real proteins, and even though we expect real protein sequences to be less-than-random, we can get a conservative estimate by using pbzip2, which gave the best compression ratio (1.8) vs. time for a random amino acid sequence (arithmetic compression would only be slightly better, but requires 30X more time). None of the compression algorithims achieved any memory-savings on the random binary data, so there is no point wasting time trying to compress it. Therefore, only the nucleotide and protein sequence data will be compressed. \n",
    "\n",
    "The amount of space we could potentially save would be 800 TB\\*(1/7.5) + 100 TB\\*(1/1.8) = 162.2 TB. So, we can conservatively expect about a 16% reduction in data storage needs. If the end-of-year bonus is equal to the amount of money we save in a day, and every 1% reduction saves \\$500 per day, then we can expect a tasty $8,000 bonus.  "
   ]
  }
 ],
 "metadata": {
  "kernelspec": {
   "display_name": "Python 3",
   "language": "python",
   "name": "python3"
  },
  "language_info": {
   "codemirror_mode": {
    "name": "ipython",
    "version": 3
   },
   "file_extension": ".py",
   "mimetype": "text/x-python",
   "name": "python",
   "nbconvert_exporter": "python",
   "pygments_lexer": "ipython3",
   "version": "3.6.5"
  }
 },
 "nbformat": 4,
 "nbformat_minor": 2
}

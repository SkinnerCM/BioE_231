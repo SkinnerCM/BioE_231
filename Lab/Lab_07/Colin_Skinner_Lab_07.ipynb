{
 "cells": [
  {
   "cell_type": "code",
   "execution_count": 3,
   "metadata": {},
   "outputs": [],
   "source": [
    "import numpy as np"
   ]
  },
  {
   "cell_type": "markdown",
   "metadata": {},
   "source": [
    "## First, let's test the random zero generator to see that it works as expected:"
   ]
  },
  {
   "cell_type": "code",
   "execution_count": 6,
   "metadata": {},
   "outputs": [
    {
     "name": "stdout",
     "output_type": "stream",
     "text": [
      "\n",
      "This is an array with 100 percent zeros: \n",
      "\n",
      "[0 0 0 0 0 0 0 0 0 0 0 0 0 0 0 0 0 0 0 0 0 0 0 0 0 0 0 0 0 0 0 0 0 0 0 0 0\n",
      " 0 0 0 0 0 0 0 0 0 0 0 0 0 0 0 0 0 0 0 0 0 0 0 0 0 0 0 0 0 0 0 0 0 0 0 0 0\n",
      " 0 0 0 0 0 0 0 0 0 0 0 0 0 0 0 0 0 0 0 0 0 0 0 0 0 0]\n",
      "\n",
      "This is an array with 90 percent zeros: \n",
      "\n",
      "[0 0 0 0 0 0 0 0 1 0 0 0 0 0 0 0 0 0 0 0 0 0 0 0 0 0 0 1 0 0 0 0 0 0 0 0 0\n",
      " 0 1 1 0 1 0 0 0 1 0 0 0 0 0 0 0 0 0 0 0 0 0 0 0 1 0 0 0 0 0 0 0 0 0 0 0 0\n",
      " 0 0 1 0 0 0 0 0 0 1 0 0 0 0 0 0 0 0 0 0 1 0 0 0 1 0]\n",
      "\n",
      "This is an array with 80 percent zeros: \n",
      "\n",
      "[0 0 0 0 0 0 0 1 0 0 0 0 0 0 0 1 1 0 0 0 0 1 0 0 0 0 0 1 1 0 1 0 0 0 1 0 0\n",
      " 0 0 0 1 0 1 0 0 0 0 0 0 0 1 0 0 0 0 0 0 0 0 1 1 1 0 0 0 0 0 1 0 0 0 0 1 0\n",
      " 1 0 0 0 0 0 0 0 0 0 1 0 0 0 0 0 1 0 0 1 0 1 1 0 0 0]\n",
      "\n",
      "This is an array with 70 percent zeros: \n",
      "\n",
      "[0 0 0 1 0 0 0 1 0 0 1 0 1 1 1 0 0 1 0 0 0 1 0 0 0 0 0 1 1 0 0 1 1 0 1 0 0\n",
      " 0 0 0 0 1 1 1 0 1 1 1 0 0 0 0 0 0 0 0 0 0 0 1 0 0 0 0 1 0 1 0 1 0 1 0 1 1\n",
      " 0 0 0 1 0 0 0 0 0 0 1 1 0 0 0 0 1 0 0 0 0 1 0 0 1 0]\n",
      "\n",
      "This is an array with 60 percent zeros: \n",
      "\n",
      "[0 0 1 0 0 0 0 0 0 0 0 0 0 0 0 1 1 0 0 0 0 0 1 0 0 1 1 0 0 1 1 1 1 1 1 0 1\n",
      " 1 0 1 1 1 0 1 0 0 0 1 1 0 1 1 1 0 1 0 1 1 1 0 0 1 0 0 0 0 0 1 0 1 0 0 0 0\n",
      " 0 0 1 0 0 1 0 1 1 1 1 0 0 1 0 1 0 0 1 0 0 1 1 0 1 0]\n",
      "\n",
      "This is an array with 50 percent zeros: \n",
      "\n",
      "[0 1 0 0 1 0 1 1 0 1 0 1 1 0 1 0 0 0 0 1 0 1 0 1 1 1 0 0 1 0 1 0 1 1 0 1 0\n",
      " 0 0 0 1 1 0 0 0 1 0 1 0 1 1 1 1 1 0 1 0 1 1 0 0 1 1 0 0 1 1 1 1 1 1 1 1 0\n",
      " 1 0 1 0 0 1 1 1 1 0 0 0 1 0 1 0 0 1 0 0 1 1 0 0 1 0]\n"
     ]
    }
   ],
   "source": [
    "rates = [1.0, 0.9, 0.8, 0.7, 0.6, 0.5]\n",
    "\n",
    "for i in range(len(rates)):\n",
    "    myvar = np.random.choice([0,1], size=int(100), replace=True, p=[rates[i], 1 - rates[i]]) \n",
    "    print(\"\\nThis is an array with {} percent zeros: \\n\" .format(int(rates[i]*100)))\n",
    "    print(myvar)"
   ]
  },
  {
   "cell_type": "markdown",
   "metadata": {},
   "source": [
    "## Now we create the 100MB files with varying percentages of  zeros"
   ]
  },
  {
   "cell_type": "code",
   "execution_count": null,
   "metadata": {},
   "outputs": [],
   "source": [
    "for i in range(len(rates)):\n",
    "    myvar = np.random.choice([0,1], size=int(8e8), replace=True, p=[rates[i], 1 - rates[i]]) \n",
    "    myvar = np.packbits(myvar)\n",
    "    #open(\"zeros_{}p\" .format(int(rates[i]*100)), \"wb\").write(myvar)"
   ]
  },
  {
   "cell_type": "markdown",
   "metadata": {},
   "source": [
    "## Creating a random 100 MB DNA sequence"
   ]
  },
  {
   "cell_type": "code",
   "execution_count": 4,
   "metadata": {},
   "outputs": [
    {
     "data": {
      "text/plain": [
       "100000000"
      ]
     },
     "execution_count": 4,
     "metadata": {},
     "output_type": "execute_result"
    }
   ],
   "source": [
    "nt_seq = np.random.choice(['A','T','C','G'], size=int(1e8), replace=True, p=[0.25,0.25,0.25,0.25])\n",
    "\n",
    "#open(\"nt_seq.fa\", \"w\").write(\"\".join(nt_seq))"
   ]
  },
  {
   "cell_type": "markdown",
   "metadata": {},
   "source": [
    "## Creating a random 100 MB amino acid sequence"
   ]
  },
  {
   "cell_type": "code",
   "execution_count": 64,
   "metadata": {},
   "outputs": [
    {
     "data": {
      "text/plain": [
       "100000000"
      ]
     },
     "execution_count": 64,
     "metadata": {},
     "output_type": "execute_result"
    }
   ],
   "source": [
    "AA_code = ['A','R','N','D','C','Q','E','G','H','I','L','K','M','F','P','S','T','W','Y','V']\n",
    "AA_prob = 20*[0.05]\n",
    "\n",
    "AA_seq = np.random.choice(AA_code, size=int(8*1024*1024*100), replace=True, p=AA_prob)\n",
    "\n",
    "#open(\"AA_seq.fa\", \"w\").write(\"\".join(AA_seq))"
   ]
  },
  {
   "cell_type": "code",
   "execution_count": null,
   "metadata": {},
   "outputs": [],
   "source": []
  }
 ],
 "metadata": {
  "kernelspec": {
   "display_name": "Python 3",
   "language": "python",
   "name": "python3"
  },
  "language_info": {
   "codemirror_mode": {
    "name": "ipython",
    "version": 3
   },
   "file_extension": ".py",
   "mimetype": "text/x-python",
   "name": "python",
   "nbconvert_exporter": "python",
   "pygments_lexer": "ipython3",
   "version": "3.6.5"
  }
 },
 "nbformat": 4,
 "nbformat_minor": 2
}

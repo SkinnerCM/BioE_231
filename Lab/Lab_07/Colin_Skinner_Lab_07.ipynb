{
 "cells": [
  {
   "cell_type": "code",
   "execution_count": 2,
   "metadata": {},
   "outputs": [],
   "source": [
    "import numpy as np\n"
   ]
  },
  {
   "cell_type": "code",
   "execution_count": 11,
   "metadata": {},
   "outputs": [
    {
     "data": {
      "text/plain": [
       "128"
      ]
     },
     "execution_count": 11,
     "metadata": {},
     "output_type": "execute_result"
    }
   ],
   "source": [
    "myvar = np.random.choice([0,1], size=1024, replace=True, p=[0.5, 0.5]) \n",
    "myvar = np.packbits(myvar)\n",
    "\n",
    "open(\"zeros_100p\", \"wb\").write(myvar)\n",
    "\n"
   ]
  },
  {
   "cell_type": "code",
   "execution_count": 16,
   "metadata": {},
   "outputs": [
    {
     "name": "stdout",
     "output_type": "stream",
     "text": [
      "[ 79  61 220  50  74 232 230  81  55  59 160 229  17 233 204 208  94  41\n",
      "  41 170 203 194 120  48 196 124 124 107   9 187 202  20 193  32  77  68\n",
      " 233  91  16  82  15 183  61 160  42 121 222 110  65  64  14 172 253 134\n",
      "  76 110 196  95 235  64   2 249 175  61   5  12 150 166  27 190  18 254\n",
      "  64  77 162 176 149 228  16 242  95 178 130 167 105 147  73 130 137 250\n",
      "  70 124  12 168  57  65  61 132 133 204 177 174   4 144 137  11 171  70\n",
      " 154 230 211 123 250 172 114  23 206  52  64 129  89  74 241 203 149 167\n",
      " 118 175]\n"
     ]
    }
   ],
   "source": [
    "print(myvar)"
   ]
  },
  {
   "cell_type": "code",
   "execution_count": 13,
   "metadata": {},
   "outputs": [
    {
     "data": {
      "text/plain": [
       "numpy.uint8"
      ]
     },
     "execution_count": 13,
     "metadata": {},
     "output_type": "execute_result"
    }
   ],
   "source": [
    "type(myvar[0])"
   ]
  },
  {
   "cell_type": "code",
   "execution_count": null,
   "metadata": {},
   "outputs": [],
   "source": []
  }
 ],
 "metadata": {
  "kernelspec": {
   "display_name": "Python 3",
   "language": "python",
   "name": "python3"
  },
  "language_info": {
   "codemirror_mode": {
    "name": "ipython",
    "version": 3
   },
   "file_extension": ".py",
   "mimetype": "text/x-python",
   "name": "python",
   "nbconvert_exporter": "python",
   "pygments_lexer": "ipython3",
   "version": "3.6.5"
  }
 },
 "nbformat": 4,
 "nbformat_minor": 2
}

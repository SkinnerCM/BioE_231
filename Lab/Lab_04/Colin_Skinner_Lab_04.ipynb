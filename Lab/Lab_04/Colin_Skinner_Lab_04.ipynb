{
 "cells": [
  {
   "attachments": {},
   "cell_type": "markdown",
   "metadata": {},
   "source": [
    "# Database Schema\n",
    "\n",
    "                                               Enzyme Database\n",
    "   \n",
    "   \n",
    "                    \n",
    "              Main Tables:          |Table: genes |    |Table: enzymes|    |Table: pathways| \n",
    "                                             \\           /        \\             / \n",
    "                                              \\         /          \\           / \n",
    "              Associative Tables:    |Table: gene-to-enzyme|    |Table: enzyme-to-pathway| \n",
    "                                                                            |\n",
    "                                                                            |\n",
    "                                                             |Table: pathway-to-enzyme ordered|\n",
    "                                                   "
   ]
  },
  {
   "cell_type": "markdown",
   "metadata": {},
   "source": [
    "### The above is only a very basic scheme which does not describe the types of relationship between the tables "
   ]
  },
  {
   "cell_type": "markdown",
   "metadata": {},
   "source": [
    "### Import SQlite and set it up"
   ]
  },
  {
   "cell_type": "code",
   "execution_count": 30,
   "metadata": {},
   "outputs": [],
   "source": [
    "import sqlite3\n",
    "\n",
    "conn = sqlite3.connect('my.db')\n",
    "c = conn.cursor()"
   ]
  },
  {
   "cell_type": "markdown",
   "metadata": {},
   "source": [
    "# Creating the tables"
   ]
  },
  {
   "cell_type": "markdown",
   "metadata": {},
   "source": [
    "### Let's create and populate the enzyme table first"
   ]
  },
  {
   "cell_type": "code",
   "execution_count": null,
   "metadata": {},
   "outputs": [],
   "source": [
    "#c.execute(\"\"\"DROP TABLE enzymes;\"\"\")\n",
    "\n",
    "c.execute(\"\"\"CREATE TABLE enzyme (ecn INT PRIMARY KEY ASC, name TEXT, \n",
    "                                  function TEXT);\"\"\")"
   ]
  },
  {
   "cell_type": "code",
   "execution_count": 38,
   "metadata": {},
   "outputs": [
    {
     "data": {
      "text/plain": [
       "<sqlite3.Cursor at 0x25c139e8d50>"
      ]
     },
     "execution_count": 38,
     "metadata": {},
     "output_type": "execute_result"
    }
   ],
   "source": [
    "#c.execute(\"\"\"DROP TABLE genes;\"\"\") \n",
    "c.execute(\"\"\"CREATE TABLE genes (id INT PRIMARY KEY ASC, name TEXT, \n",
    "                                description TEXT, chromosome TEXT,\n",
    "                                dna_seq TEXT,\n",
    "                                start INT, end INT,\n",
    "                                strand VARCHAR(1));\"\"\")\n",
    "\n"
   ]
  },
  {
   "cell_type": "markdown",
   "metadata": {},
   "source": [
    "### Creating the pathways table is easy since we know what they are. The descriptions are all taken from Wikipedia"
   ]
  },
  {
   "cell_type": "code",
   "execution_count": 44,
   "metadata": {},
   "outputs": [],
   "source": [
    "#c.execute(\"\"\"DROP TABLE pathways;\"\"\")\n",
    "\n",
    "c.execute(\"\"\"CREATE TABLE pathways (id INT PRIMARY KEY ASC,\n",
    "                                    name TEXT, description TEXT);\"\"\")\n",
    "\n",
    "c.execute(\"\"\"INSERT INTO pathways VALUES (1 , \"Glycolysis\", \"The oxidative breakdown of one glucose into two pyruvate with the capture of some energy as ATP and NADH\");\"\"\")\n",
    "c.execute(\"\"\"INSERT INTO pathways VALUES (2, \"Citric Acid Cycle\", \"Releases stored energy through the oxidation of acetyl-CoA derived from carbohydrates, fats, and proteins into adenosine triphosphate (ATP) and carbon dioxide\");\"\"\")\n",
    "c.execute(\"\"\"INSERT INTO pathways VALUES (3 , \"Pentose Phosphate Cycle\", \"Generates NADPH and pentoses (5-carbon sugars) as well as ribose 5-phosphate, the last one a precursor for the synthesis of nucleotides\");\"\"\")\n",
    "\n",
    "conn.commit()"
   ]
  },
  {
   "cell_type": "code",
   "execution_count": null,
   "metadata": {},
   "outputs": [],
   "source": [
    "#c.execute(\"\"\"DROP TABLE gene_to_enzyme;\"\"\")\n",
    "\n",
    "c.execute(\"\"\"CREATE TABLE gene_to_enzyme (gene_id INT PRIMARY KEY ASC,\n",
    "                                          enzyme_ecn INT);\"\"\")"
   ]
  },
  {
   "cell_type": "code",
   "execution_count": null,
   "metadata": {},
   "outputs": [],
   "source": [
    "#c.execute(\"\"\"DROP TABLE enzyme_to_pathway;\"\"\")\n",
    "\n",
    "c.execute(\"\"\"CREATE TABLE enzyme_to_pathway (enzyme_ecn INT PRIMARY KEY ASC,\n",
    "                                              pathway_id INT);\"\"\")"
   ]
  },
  {
   "cell_type": "code",
   "execution_count": 42,
   "metadata": {},
   "outputs": [
    {
     "data": {
      "text/plain": [
       "<sqlite3.Cursor at 0x25c139e8d50>"
      ]
     },
     "execution_count": 42,
     "metadata": {},
     "output_type": "execute_result"
    }
   ],
   "source": [
    "#c.execute(\"\"\"DROP TABLE pathway_ordered;\"\"\")\n",
    "\n",
    "c.execute(\"\"\"CREATE TABLE pathway_ordered (pathway_id INT PRIMARY KEY ASC,\n",
    "                                               enzyme_order INT);\"\"\")"
   ]
  },
  {
   "cell_type": "code",
   "execution_count": null,
   "metadata": {},
   "outputs": [],
   "source": [
    "\n"
   ]
  },
  {
   "cell_type": "code",
   "execution_count": null,
   "metadata": {},
   "outputs": [],
   "source": []
  },
  {
   "cell_type": "code",
   "execution_count": null,
   "metadata": {},
   "outputs": [],
   "source": []
  }
 ],
 "metadata": {
  "kernelspec": {
   "display_name": "Python 3",
   "language": "python",
   "name": "python3"
  },
  "language_info": {
   "codemirror_mode": {
    "name": "ipython",
    "version": 3
   },
   "file_extension": ".py",
   "mimetype": "text/x-python",
   "name": "python",
   "nbconvert_exporter": "python",
   "pygments_lexer": "ipython3",
   "version": "3.6.5"
  }
 },
 "nbformat": 4,
 "nbformat_minor": 2
}

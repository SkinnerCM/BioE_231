{
 "cells": [
  {
   "cell_type": "markdown",
   "metadata": {},
   "source": [
    "### To filter out any potential human DNA from the sample, I ran the following command in the terminal: ###"
   ]
  },
  {
   "cell_type": "markdown",
   "metadata": {},
   "source": [
    "bowtie2 -p 4 --very-fast --no-unal -x /data/hg19/hg19 -U /data/lab6/illumina_reads.fastq \n",
    "             -S hdna_output.sam --un filtered_mr1dna.fastq "
   ]
  },
  {
   "cell_type": "markdown",
   "metadata": {},
   "source": [
    "### This returned the following:"
   ]
  },
  {
   "cell_type": "markdown",
   "metadata": {},
   "source": [
    "1124714 reads; of these:<br/>\n",
    "  1124714 (100.00%) were unpaired; of these:<br/>\n",
    "    1028379 (91.43%) aligned 0 times<br/>\n",
    "    87274 (7.76%) aligned exactly 1 time<br/>\n",
    "    9061 (0.81%) aligned >1 times<br/>\n",
    "8.57% overall alignment rate"
   ]
  },
  {
   "cell_type": "markdown",
   "metadata": {},
   "source": [
    "If this worked as intended then _hdna_ _ _output.sam_ should contain all of the reads that matched up to the human genome it was ran against, and _filtered_ _ _mr1dna.fastq_ (the --un unaligned.fastq option) should contain little-to-no human DNA and is hopefully only DNA extracted from S. oneidensis. Accoring to the output from the bowtie2 alignment **8.57%** of the DNA aligned with the human genome, and therefore consituted the fraction of contaminant DNA."
   ]
  },
  {
   "cell_type": "markdown",
   "metadata": {},
   "source": [
    "### Running the filtered DNA sample against the S. oneidensis MR-1 reference genome:"
   ]
  },
  {
   "cell_type": "markdown",
   "metadata": {},
   "source": [
    "bowtie2 -p 4 --very-fast --no-unal -x /data/lab6/shewanella_oneidensis_mr-1 -U ~/lab/filtered_mr1dna.fastq -S mr1_aligned.sam --              un mr1_unaligned.fastq"
   ]
  },
  {
   "cell_type": "markdown",
   "metadata": {},
   "source": [
    "### Which returned:"
   ]
  },
  {
   "cell_type": "markdown",
   "metadata": {},
   "source": [
    "1028379 reads; of these:<br/> \n",
    "  1028379 (100.00%) were unpaired; of these:<br/>\n",
    "    299560 (29.13%) aligned 0 times<br/>\n",
    "    687571 (66.86%) aligned exactly 1 time<br/>\n",
    "    41248 (4.01%) aligned >1 times<br/>\n",
    "70.87% overall alignment rate"
   ]
  },
  {
   "cell_type": "markdown",
   "metadata": {},
   "source": [
    "This gives a decent alignment rate, but it is not 100%. Perhaps our reads came from an organism with variants that simply aren't represented in the MR-1 reference genome, or perhaps the bowtie2 algorithm could use more refinement (maybe both?). It is also possible that the samples have other contamination besides the exprimenter's DNA. "
   ]
  },
  {
   "cell_type": "markdown",
   "metadata": {},
   "source": [
    "### Let's see if we can get better alignment by adjusting the sensitivity of the alignment algorithm:"
   ]
  },
  {
   "cell_type": "markdown",
   "metadata": {},
   "source": [
    "bowtie2 -p 4 --very-sensitive --no-unal -x /data/lab6/shewanella_oneidensis_mr-1 -U ~/lab/filtered_mr1dna.fastq -S                            mr1_aligned.sam --un mr1_unaligned.fastq"
   ]
  },
  {
   "cell_type": "markdown",
   "metadata": {},
   "source": [
    "1028379 reads; of these:<br/>\n",
    "  1028379 (100.00%) were unpaired; of these:<br/>\n",
    "    298112 (28.99%) aligned 0 times<br/>\n",
    "    688180 (66.92%) aligned exactly 1 time<br/>\n",
    "    42087 (4.09%) aligned >1 times<br/>\n",
    "71.01% overall alignment rate"
   ]
  },
  {
   "cell_type": "markdown",
   "metadata": {},
   "source": [
    "The --very-sensitive option did indeed give better alignment, but not much. Still, it is better to use this alighment than the previous. "
   ]
  },
  {
   "cell_type": "markdown",
   "metadata": {},
   "source": [
    "### Wait, perhaps we can do better. We should re-filter the original read file using the sensitive algorithm to make sure we really separate out all of the human DNA, and then again try to align our reads to the reference MR-1 with the sensitive algorithm:"
   ]
  },
  {
   "cell_type": "markdown",
   "metadata": {},
   "source": [
    "bowtie2 -p 4 --very-sensitive --no-unal -x /data/hg19/hg19 -U /data/lab6/illumina_reads.fastq -S sensitive_hdna_out.sam --un sensitive_filtered_mr1dna.fastq"
   ]
  },
  {
   "cell_type": "markdown",
   "metadata": {},
   "source": [
    "### The output is only slightly different from what we got with the first attempt to filter using the \"--very-fast\" option:"
   ]
  },
  {
   "cell_type": "markdown",
   "metadata": {},
   "source": [
    "1124714 reads; of these:<br/>\n",
    "  1124714 (100.00%) were unpaired; of these:<br/>\n",
    "    1028330 (91.43%) aligned 0 times<br/>\n",
    "    86198 (7.66%) aligned exactly 1 time<br/>\n",
    "    10186 (0.91%) aligned >1 times<br/>\n",
    "8.57% overall alignment rate"
   ]
  },
  {
   "cell_type": "markdown",
   "metadata": {},
   "source": [
    "We see a change between the reads that aligned exactly once and those that aligned greater than once. However, the overall alignment rate has no change, and the same ratio of our reads aligned with the human genome, so it does not help us to run these results in attempt to get a truer picture of the alignment of our reads to the reference MR-1 genome. "
   ]
  },
  {
   "cell_type": "markdown",
   "metadata": {},
   "source": [
    "### I used the terminal commands from the power point  to convert the SAM to a BAM file and generate the depth tab file"
   ]
  },
  {
   "cell_type": "markdown",
   "metadata": {},
   "source": [
    "samtools view -b mr1_aligned.sam > mr1_aligned.bam<br/>\n",
    "samtools sort mr1_aligned.bam > mr1_aligned.sorted.bam<br/>\n",
    "samtools index mr1_aligned.sorted.bam<br/>\n",
    "samtools depth -a mr1_aligned.sorted.bam > pileup.tab"
   ]
  },
  {
   "cell_type": "markdown",
   "metadata": {},
   "source": [
    "### I used PSCP to transfer the pileup.tab file from the remote to my local machine:\n",
    "\n",
    "\\>pscp be131-16@bioe131.com:/home/be131-16/mr1_aligned_pileup.tab C:\\Users\\cms\\Desktop\n"
   ]
  },
  {
   "cell_type": "markdown",
   "metadata": {},
   "source": [
    "### Now we use Pandas to parse the tab file and we'll get an array where columns 1 & 2 are the position in the genome and the position coverage respectively"
   ]
  },
  {
   "cell_type": "code",
   "execution_count": 69,
   "metadata": {},
   "outputs": [
    {
     "name": "stdout",
     "output_type": "stream",
     "text": [
      "Populating the interactive namespace from numpy and matplotlib\n"
     ]
    }
   ],
   "source": [
    "import pandas as pd \n",
    "import numpy as np\n",
    "import statistics\n",
    "\n",
    "%pylab inline\n"
   ]
  },
  {
   "cell_type": "code",
   "execution_count": 39,
   "metadata": {},
   "outputs": [],
   "source": [
    "depth = pd.read_csv('mr1_aligned_pileup.tab', header=None, sep='\\t')\n",
    "\n",
    "position = depth[1].values.ravel()\n",
    "\n",
    "coverage = depth[2].values.ravel()"
   ]
  },
  {
   "cell_type": "code",
   "execution_count": 55,
   "metadata": {},
   "outputs": [
    {
     "data": {
      "image/png": "[encoded data removed]",
      "text/plain": [
       "<Figure size 1080x288 with 2 Axes>"
      ]
     },
     "metadata": {},
     "output_type": "display_data"
    }
   ],
   "source": [
    "plt.figure(figsize=(15,4))\n",
    "plt.subplot(1,2,1)\n",
    "plt.scatter(position, coverage, s=3, color='red')\n",
    "plt.title('Figure 1. Coverage vs. Position in Genome')\n",
    "plt.xlabel('Position in Genome')\n",
    "plt.ylabel('Depth of Coverage')\n",
    "\n",
    "\n",
    "plt.subplot(1,2,2)\n",
    "plt.hist(coverage, range=[0,100], bins=50)\n",
    "plt.title('Figure 2. Coverage Depth Frequency')\n",
    "plt.xlabel('Depth of Coverage')\n",
    "plt.ylabel('Count')\n",
    "plt.tight_layout()\n",
    "plt.show()"
   ]
  },
  {
   "cell_type": "code",
   "execution_count": 72,
   "metadata": {},
   "outputs": [
    {
     "name": "stdout",
     "output_type": "stream",
     "text": [
      "The minimum coverage for a position is: 1\n",
      "The maximum coverage for a position is: 281\n",
      "The mean coverage for a position is: 37\n"
     ]
    }
   ],
   "source": [
    "print(\"The minimum coverage for a position is:\", min(depth[2]))\n",
    "print(\"The maximum coverage for a position is:\", max(depth[2]))\n",
    "print(\"The mean coverage for a position is:\", int(round(mean(depth[2]))))"
   ]
  },
  {
   "cell_type": "markdown",
   "metadata": {},
   "source": [
    "### From the scatterplot we can see the coverage was much higher for a few positions in the genome. "
   ]
  },
  {
   "cell_type": "code",
   "execution_count": null,
   "metadata": {},
   "outputs": [],
   "source": []
  }
 ],
 "metadata": {
  "kernelspec": {
   "display_name": "Python 3",
   "language": "python",
   "name": "python3"
  },
  "language_info": {
   "codemirror_mode": {
    "name": "ipython",
    "version": 3
   },
   "file_extension": ".py",
   "mimetype": "text/x-python",
   "name": "python",
   "nbconvert_exporter": "python",
   "pygments_lexer": "ipython3",
   "version": "3.6.5"
  }
 },
 "nbformat": 4,
 "nbformat_minor": 2
}

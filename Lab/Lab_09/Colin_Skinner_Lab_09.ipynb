{
 "cells": [
  {
   "cell_type": "markdown",
   "metadata": {},
   "source": [
    "# Preparation from Lab 8\n",
    "\n",
    "In lab 8 I ran the following commands in terminal: <br/>\n",
    "\n",
    "spades.py\t--careful\t-t1\t--pe1-1\t/data/lab8/illumina_reads_R1.fastq\t--pe1-2\t/data/lab8/illumina_reads_R2.fastq\t--pacbio\t/data/lab8/pacbio_reads.fastq\t-o\t/home/be131-16/Colin/lab8/spades_output\t<br/>\n",
    "\n",
    "After the program finished running, I got the following warnings:\n",
    "\n",
    "=== Error correction and assembling warnings:\n",
    " * 0:17:45.199   564M / 1G    WARN    General                 (kmer_coverage_model.cpp   : 218)   Too many erroneous kmers, the estimates might be unreliable\n"
   ]
  },
  {
   "cell_type": "markdown",
   "metadata": {},
   "source": [
    "# Lab 9\n",
    "## In terminal \n",
    "\n",
    "in: $ assembly-stats contigs.fasta\n",
    "\n",
    "out: <br/>\n",
    "stats for contigs.fasta <br/>\n",
    "sum = 6668871, n = 179, ave = 37256.26, largest = 468307<br/>\n",
    "N50 = 213892, n = 11<br/>\n",
    "N60 = 195508, n = 14<br/>\n",
    "N70 = 148554, n = 18<br/>\n",
    "N80 = 103352, n = 23<br/>\n",
    "N90 = 81820, n = 30<br/>\n",
    "N100 = 128, n = 179<br/>\n",
    "N_count = 0<br/>\n",
    "Gaps = 0\n",
    "<br/>\n",
    "<br/>\n",
    "in: $ assembly-stats scaffolds.fasta\n",
    "\n",
    "out:<br/> \n",
    "stats for scaffolds.fasta<br/>\n",
    "sum = 6672441, n = 173, ave = 38569.02, largest = 468307<br/>\n",
    "N50 = 261858, n = 10<br/>\n",
    "N60 = 253666, n = 12<br/>\n",
    "N70 = 207869, n = 15<br/>\n",
    "N80 = 124081, n = 20<br/>\n",
    "N90 = 92098, n = 26<br/>\n",
    "N100 = 128, n = 173<br/>\n",
    "N_count = 144<br/>\n",
    "Gaps = 7\n"
   ]
  },
  {
   "cell_type": "markdown",
   "metadata": {},
   "source": [
    "There are 179 contigs with a total length 6,668,871 bases. The N50 for the contigs is 213,892 bases. For the scaffolds, there were 173 with a total length of 6,672,441 bases. The scaffolds N50 is 261,858. <br/>\n",
    " \n",
    "The N50 is useful as a measure of the quality of the contiguity of the reads and is a higher level statistic than mean or median. Higher N50s mean that longer, more robust contigs make up 50% of overall genome, indicating more reliable assembly overall. <br/>\n",
    "\n",
    "Mean and median contig length do not really capture the quality of data the way the N50 does. The mean gives equal weight to contigs of all lengths, but longer contigs are more desireable. The median also does not give insight to the length of the longer reads that make up half of the genome as it only reports the length of the contig that falls right in the middle of the data. <br/>\n",
    "\n",
    "In this case, the number of scaffolds is fairly close to the number of contigs, but about 35 of the contigs were able to be stitched together. The N50 for the scaffolds is slightly larger than that for the contigs, and overall the scaffolds are longer in length than the contigs. This is not surprising if some of the larger contigs are beiing joined with others to make scaffolds.  "
   ]
  },
  {
   "cell_type": "markdown",
   "metadata": {},
   "source": [
    "## Next, I used rna_hmm3.py to annotate my contig file"
   ]
  },
  {
   "cell_type": "markdown",
   "metadata": {},
   "source": [
    "### I ran the following in the terminal: \n",
    "\n",
    "rna_hmm3.py -i /home/be131-16/Colin/lab8/spades_output/contigs.fasta -o contigs_annotation.gff<br/><br/>\n",
    "\n",
    "### Output: \n",
    "\n",
    "##seq_name\tmethod\tfeature\tstart\tend\tevalue\tstrand\tframe\tattribute <br/>\n",
    "NODE_3_length_352739_cov_8.419214\trna_hmm3\trRNA\t65159\t68063\t0\t-\tNA\t23S_rRNA <br/>\n",
    "NODE_23_length_103352_cov_10.011827\trna_hmm3\trRNA\t37580\t40484\t0\t+\tNA\t23S_rRNA <br/>\n",
    "NODE_6_length_279343_cov_8.754747\trna_hmm3\trRNA\t457\t3361\t0\t+\tNA\t23S_rRNA <br/>\n",
    "NODE_1_length_468307_cov_8.955035\trna_hmm3\trRNA\t161099\t164003\t0\t+\tNA\t23S_rRNA<br/>\n",
    "NODE_117_length_451_cov_1.006173\trna_hmm3\trRNA\t184\t303\t8e-36\t+\tNA\t23S_rRNA<br/>\n",
    "NODE_117_length_451_cov_1.006173\trna_hmm3\trRNA\t152\t220\t4.4e-09\t-\tNA\t23S_rRNA<br/>\n",
    "NODE_14_length_195508_cov_8.764542\trna_hmm3\trRNA\t49\t1592\t0\t-\tNA\t16S_rRNA<br/>\n",
    "NODE_1_length_468307_cov_8.955035\trna_hmm3\trRNA\t159050\t160594\t0\t+\tNA\t16S_rRNA<br/>\n",
    "NODE_3_length_352739_cov_8.419214\trna_hmm3\trRNA\t68568\t70112\t0\t-\tNA\t16S_rRNA<br/>\n",
    "NODE_34_length_47877_cov_11.378513\trna_hmm3\trRNA\t46286\t47829\t0\t+\tNA\t16S_rRNA<br/>\n",
    "NODE_23_length_103352_cov_10.011827\trna_hmm3\trRNA\t35531\t37075\t0\t+\tNA\t16S_rRNA<br/>\n",
    "NODE_23_length_103352_cov_10.011827\trna_hmm3\trRNA\t40649\t40763\t3.5e-21\t+\tNA\t5S_rRNA<br/>\n",
    "NODE_21_length_133461_cov_8.643403\trna_hmm3\trRNA\t133332\t133446\t4.5e-21\t-\tNA\t5S_rRNA<br/>\n",
    "NODE_6_length_279343_cov_8.754747\trna_hmm3\trRNA\t3528\t3642\t9.7e-21\t+\tNA\t5S_rRNA<br/>\n",
    "NODE_3_length_352739_cov_8.419214\trna_hmm3\trRNA\t64880\t64994\t1.2e-20\t-\tNA\t5S_rRNA<br/>\n",
    "NODE_42_length_25337_cov_8.961166\trna_hmm3\trRNA\t2\t108\t1.9e-20\t+\tNA\t5S_rRNA<br/>\n",
    "NODE_1_length_468307_cov_8.955035\trna_hmm3\trRNA\t164170\t164284\t1.6e-20\t+\tNA\t5S_rRNA\n",
    "\n",
    "\n",
    "I deleted all lines that aren't part of the 16S ribosome sequence. \n",
    "\n"
   ]
  },
  {
   "cell_type": "markdown",
   "metadata": {},
   "source": [
    "## Using bedtools to get the 16S ribosome contig sequences \n",
    "\n",
    "### In the terminal I used the following command:\n",
    "\n",
    "$ bedtools getfasta -fi /home/be131-16/Colin/lab8/spades_output/contigs.fasta -bed /home/be131-16/Colin/lab8/spades_output/contigs_annotation.gff <br/>\n",
    "\n",
    "The output was in FASTA format and is unreasonably long to paste here. However, I got back the sequences from Nodes 14, 1, 3, 34 and 23, which are all the sequence segments for the 16S subunit. "
   ]
  },
  {
   "cell_type": "markdown",
   "metadata": {},
   "source": [
    "## Using the Ribosomal Database Project's SeqMatch tool:\n",
    "\n",
    "I queried the five sequences from above and for each one it returned the same genus: pseudomonas. With each of the five sequences returning the same results, it seems likely that the organism from which the sequences were derived is of the pseudomonas genus. \n"
   ]
  },
  {
   "cell_type": "code",
   "execution_count": null,
   "metadata": {},
   "outputs": [],
   "source": []
  }
 ],
 "metadata": {
  "kernelspec": {
   "display_name": "Python 3",
   "language": "python",
   "name": "python3"
  },
  "language_info": {
   "codemirror_mode": {
    "name": "ipython",
    "version": 3
   },
   "file_extension": ".py",
   "mimetype": "text/x-python",
   "name": "python",
   "nbconvert_exporter": "python",
   "pygments_lexer": "ipython3",
   "version": "3.6.5"
  }
 },
 "nbformat": 4,
 "nbformat_minor": 2
}

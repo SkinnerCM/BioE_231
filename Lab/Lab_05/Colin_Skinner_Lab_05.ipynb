{
 "cells": [
  {
   "cell_type": "markdown",
   "metadata": {},
   "source": [
    "## Getting the Sequences "
   ]
  },
  {
   "cell_type": "markdown",
   "metadata": {},
   "source": [
    "### It does not appear that there is any reference to the riboswitch sequences' location online for download. Reading them manually from the paper's figures:"
   ]
  },
  {
   "cell_type": "markdown",
   "metadata": {},
   "source": [
    "**Table 1. Riboswitch Sequence **\n",
    "\n",
    "\n",
    "\n",
    "|Riboswitch | <div style=\"text-align: left\">Sequence (5'->)</div>                                                                    |\n",
    "|----------|-------------------------------------------------------------------------------------------------------------------|\n",
    "|<div style=\"text-align: left\">YES-1</div>|<div style=\"text-align: left\">GGGCGACCCUGAUGAGCUUGAGUUUAGCUCGUCACUGUCCAGGUUCAAUCAGGCGAAACGGUGAAAGCCGUAGGUUGCCC</div>|\n",
    "|<div style=\"text-align: left\">NOT-1</div>|<div style=\"text-align: left\">GGCAGGUACAUACAGCUGAUGAGUCCCAAAUAGGACGAAACGCGACACACACCACUAAACCGUGCAGUGUUUUGCGUCCUGUAUUCCACUGC</div>                    |\n",
    "|<div style=\"text-align: left\">AND-1</div>|<div style=\"text-align: left\">GGGCGACCCUGAUGAGCUUGGUUUAGUAUUUACAGCUCCAUACAUGAGGUGUUAUCCCUAUGCAAGUUCGAUCAGGCGAAACGGUGAAAGCCGUAGGUUGCCCAGAGACAAU</div>|\n",
    "|<div style=\"text-align: left\">OR-1</div>|<div style=\"text-align: left\">GGGCGACCCUGAUGAGCUUGGUUGAGUAUUUACAGCUCCAUACAUGAGGUGUUCUCCCUACGCAAGUUCGAUCAGGCGAAACGGUGAAAGCCGUAGGUUGCCC</div>        |\n"
   ]
  },
  {
   "cell_type": "markdown",
   "metadata": {},
   "source": [
    "**Table 2. Riboswitch Annotation **\n",
    "\n",
    "| Riboswitch | OBS-1 Bases (5'->) | OBS-2 Bases (5'->) | Switch Site  (5'->)|Swith Site Complement (5'->)|\n",
    "|-----------------|--------------------|--------------------|--------------------------|----------------------|\n",
    "|<div style=\"text-align: left\">YES-1</div>|<div style=\"text-align: center\">26 - 47</div>|<div style=\"text-align: center\">N/A</div>| <div style=\"text-align: center\">16 - 21</div>|<div style=\"text-align: center\">49 - 54</div>|\n",
    "|<div style=\"text-align: left\">NOT-1</div>|<div style=\"text-align: center\">44 - 66</div>|<div style=\"text-align: center\">N/A</div>|<div style=\"text-align: center\">40 - 43</div>|<div style=\"text-align: center\">74 - 77</div>| \n",
    "|<div style=\"text-align: left\">AND-1</div>|<div style=\"text-align: center\">30 - 45</div>|<div style=\"text-align: center\">49 - 64</div>|<div style=\"text-align: center\">16 -23</div>|<div style=\"text-align: center\">70 - 78</div>|\n",
    "|<div style=\"text-align: left\">OR-1</div>|<div style=\"text-align: center\">27 - 46</div>|<div style=\"text-align: center\">46 - 66</div>|<div style=\"text-align: center\">16 - 27</div> |<div style=\"text-align: center\">67 - 77</div>|\n"
   ]
  },
  {
   "cell_type": "markdown",
   "metadata": {},
   "source": [
    "# Folding the RNA sequences using RNAfold"
   ]
  },
  {
   "cell_type": "code",
   "execution_count": 49,
   "metadata": {},
   "outputs": [
    {
     "name": "stdout",
     "output_type": "stream",
     "text": [
      "Here is the RNAfold output for the YES-1 riboswitch:\n",
      "\n",
      "GGGCGACCCUGAUGAGCUUGAGUUUAGCUCGUCACUGUCCAGGUUCAAUCAGGCGAAACGGUGAAAGCCGUAGGUUGCCC\r\n",
      "((((((((.(((((((((.......))))))))).((.((.(((...))).))))..(((((....))))).)))))))) (-33.00)\r\n",
      "\n",
      "Here is the RNAfold output for the NOT-1 riboswitch:\n",
      "\n",
      "GGCAGGUACAUACAGCUGAUGAGUCCCAAAUAGGACGAAACGCGACACACACCACUAAACCGUGCAGUGUUUUGCGUCCUGUAUUCCACUGC\r\n",
      ".((((....((((((.......((((......))))...((((((.((((..(((......)))..)))).)))))).))))))....)))) (-28.10)\r\n",
      "\n",
      "Here is the RNAfold output for the AND-1 riboswitch:\n",
      "\n",
      "GGGCGACCCUGAUGAGCUUGGUUUAGUAUUUACAGCUCCAUACAUGAGGUGUUAUCCCUAUGCAAGUUCGAUCAGGCGAAACGGUGAAAGCCGUAGGUUGCCCAGAGACAAU\r\n",
      "((((((((((((((((((((...(((.....(((.(((.......))).))).....)))..))))))).))))).....(((((....))))).))))))))......... (-42.10)\r\n",
      "\n",
      "Here is the RNAfold output for the OR-1 riboswitch:\n",
      "\n",
      "GGGCGACCCUGAUGAGCUUGGUUGAGUAUUUACAGCUCCAUACAUGAGGUGUUCUCCCUACGCAAGUUCGAUCAGGCGAAACGGUGAAAGCCGUAGGUUGCCC\r\n",
      "((((((((((((((((((((((.(((.....(((.(((.......))).))).)))...)).))))))).))))).....(((((....))))).)))))))) (-40.00)\r\n",
      "\n"
     ]
    }
   ],
   "source": [
    "import subprocess\n",
    "\n",
    "yes1 = 'GGGCGACCCUGAUGAGCUUGAGUUUAGCUCGUCACUGUCCAGGUUCAAUCAGGCGAAACGGUGAAAGCCGUAGGUUGCCC'\n",
    "not1 = 'GGCAGGUACAUACAGCUGAUGAGUCCCAAAUAGGACGAAACGCGACACACACCACUAAACCGUGCAGUGUUUUGCGUCCUGUAUUCCACUGC'\n",
    "and1 = 'GGGCGACCCUGAUGAGCUUGGUUUAGUAUUUACAGCUCCAUACAUGAGGUGUUAUCCCUAUGCAAGUUCGAUCAGGCGAAACGGUGAAAGCCGUAGGUUGCCCAGAGACAAU'\n",
    "or1 = 'GGGCGACCCUGAUGAGCUUGGUUGAGUAUUUACAGCUCCAUACAUGAGGUGUUCUCCCUACGCAAGUUCGAUCAGGCGAAACGGUGAAAGCCGUAGGUUGCCC'\n",
    "\n",
    "switch_seqs = [yes1, not1, and1, or1]\n",
    "names = ['YES-1', 'NOT-1', 'AND-1', 'OR-1']\n",
    "for i in range(len(switch_seqs)):\n",
    "    folded_seq = subprocess.run('RNAfold', input=bytes(switch_seqs[i], 'ascii'), shell=True, stdout=subprocess.PIPE, stderr=subprocess.PIPE)\n",
    "\n",
    "    print('Here is the RNAfold output for the ' + names[i] + ' riboswitch:')\n",
    "    print(folded_seq.stderr.decode())\n",
    "    print(folded_seq.stdout.decode())\n",
    "    \n"
   ]
  },
  {
   "attachments": {},
   "cell_type": "markdown",
   "metadata": {},
   "source": [
    "# Comparing the RNAfold output against the Pechovsky paper for YES-1\n"
   ]
  },
  {
   "cell_type": "code",
   "execution_count": null,
   "metadata": {},
   "outputs": [],
   "source": []
  }
 ],
 "metadata": {
  "kernelspec": {
   "display_name": "Python 3",
   "language": "python",
   "name": "python3"
  },
  "language_info": {
   "codemirror_mode": {
    "name": "ipython",
    "version": 3
   },
   "file_extension": ".py",
   "mimetype": "text/x-python",
   "name": "python",
   "nbconvert_exporter": "python",
   "pygments_lexer": "ipython3",
   "version": "3.6.5"
  }
 },
 "nbformat": 4,
 "nbformat_minor": 2
}

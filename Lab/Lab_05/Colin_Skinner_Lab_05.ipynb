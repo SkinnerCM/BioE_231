{
 "cells": [
  {
   "cell_type": "markdown",
   "metadata": {},
   "source": [
    "## Getting the Sequences "
   ]
  },
  {
   "cell_type": "markdown",
   "metadata": {},
   "source": [
    "### It does not appear that there is any reference to the riboswitch sequences' location online for download. Reading them manually from the paper's figures:"
   ]
  },
  {
   "cell_type": "markdown",
   "metadata": {},
   "source": [
    "**Ribswitch Sequence Table**\n",
    "\n",
    "|Riboswitch | <div style=\"text-align: left\">Sequence</div>                                                                     |\n",
    "|----------|-------------------------------------------------------------------------------------------------------------------|\n",
    "|<div style=\"text-align: left\">YES-1</div>|<div style=\"text-align: left\">5'-GGGCGACCCUGAUGAGCUUGAGUUUAGCUCGUCACUGUCCAGGUUCAAUCAGGCGAAACGGUGAAAGCCGUAGGUUGCCC</div>|\n",
    "|<div style=\"text-align: left\">NOT-1</div>|<div style=\"text-align: left\">5'-GGCAGGUACAUACAGCUGAUGAGUCCCAAAUAGGACGAAACGCGACACACACCACUAAACCGUGCAGUGUUUUGCGUCCUGUAUUCCACUGC</div>                    |\n",
    "|<div style=\"text-align: left\">AND-1</div>|<div style=\"text-align: left\" >5'-GGGCGACCCUGAUGAGCUUGGUUUAGUAUUUACAGCUCCAUACAUGAGGUGUUAUCCCUAUGCAAGUUCGAUCAGGCGAAACGGUGAAAGCCGUAGGUUGCCCAGAGACAAU</div></div>|\n",
    "|<div style=\"text-align: left\">OR-1</div>|<div style=\"text-align: left\">5'-GGGCGACCCUGAUGAGCUUGGUUGAGUAUUUACAGCUCCAUACAUGAGGUGUUCUCCCUACGCAAGUUCGAUCAGGCGAAACGGUGAAAGCCGUAGGUUGCCC</div>        |\n",
    "   "
   ]
  },
  {
   "cell_type": "markdown",
   "metadata": {},
   "source": [
    "**Riboswitch Annotation Table**\n",
    "\n",
    "\n",
    "| Riboswitch | OBS-1 Bases (5'->) | OBS-2 Bases (5'->) | Switch Site  (5'->)|Swith Site Complement (5'->)|\n",
    "|-----------------|--------------------|--------------------|--------------------------|----------------------|\n",
    "|<div style=\"text-align: left\">YES-1</div>|<div style=\"text-align: center\">26 - 47</div>|<div style=\"text-align: center\">N/A</div>| <div style=\"text-align: center\">16 - 21</div>|<div style=\"text-align: center\">49 - 54</div>|\n",
    "|<div style=\"text-align: left\">NOT-1</div>|<div style=\"text-align: center\">44 - 66</div>|<div style=\"text-align: center\">N/A</div>|<div style=\"text-align: center\">40 - 43</div>|<div style=\"text-align: center\">74 - 77</div>| \n",
    "|<div style=\"text-align: left\">AND-1</div>|                    |                    |                     |               |\n",
    "|<div style=\"text-align: left\">OR-1</div> | <div style=\"text-align: center\">27 - 46</div>|<div style=\"text-align: center\">46 - 66</div>|<div style=\"text-align: center\">16 - 27</div> |<div style=\"text-align: center\">67 - 77</div>|\n"
   ]
  },
  {
   "cell_type": "code",
   "execution_count": null,
   "metadata": {},
   "outputs": [],
   "source": []
  },
  {
   "cell_type": "code",
   "execution_count": null,
   "metadata": {},
   "outputs": [],
   "source": []
  }
 ],
 "metadata": {
  "kernelspec": {
   "display_name": "Python 3",
   "language": "python",
   "name": "python3"
  },
  "language_info": {
   "codemirror_mode": {
    "name": "ipython",
    "version": 3
   },
   "file_extension": ".py",
   "mimetype": "text/x-python",
   "name": "python",
   "nbconvert_exporter": "python",
   "pygments_lexer": "ipython3",
   "version": "3.6.5"
  }
 },
 "nbformat": 4,
 "nbformat_minor": 2
}
